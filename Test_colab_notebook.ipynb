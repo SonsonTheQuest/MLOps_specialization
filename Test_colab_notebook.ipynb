{
  "nbformat": 4,
  "nbformat_minor": 0,
  "metadata": {
    "colab": {
      "provenance": [],
      "authorship_tag": "ABX9TyN4VrPmsIHZZKEhThop9q7H",
      "include_colab_link": true
    },
    "kernelspec": {
      "name": "python3",
      "display_name": "Python 3"
    },
    "language_info": {
      "name": "python"
    }
  },
  "cells": [
    {
      "cell_type": "markdown",
      "metadata": {
        "id": "view-in-github",
        "colab_type": "text"
      },
      "source": [
        "<a href=\"https://colab.research.google.com/github/SonsonTheQuest/MLOps_specialization/blob/main/Test_colab_notebook.ipynb\" target=\"_parent\"><img src=\"https://colab.research.google.com/assets/colab-badge.svg\" alt=\"Open In Colab\"/></a>"
      ]
    },
    {
      "cell_type": "markdown",
      "source": [
        "# This is a test notebook\n",
        "## Just to try colab\n",
        "\n",
        "* With markdowns\n",
        "* and so on"
      ],
      "metadata": {
        "id": "wic9tZD_W3tI"
      }
    },
    {
      "cell_type": "code",
      "execution_count": 2,
      "metadata": {
        "id": "D-m11weuWoOd"
      },
      "outputs": [],
      "source": [
        "# This is a test\n",
        "def hello():\n",
        "  print(\"hello !\")"
      ]
    },
    {
      "cell_type": "code",
      "source": [],
      "metadata": {
        "id": "O1FVJ_dyWvoG"
      },
      "execution_count": null,
      "outputs": []
    }
  ]
}