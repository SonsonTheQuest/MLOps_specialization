{
  "cells": [
    {
      "cell_type": "markdown",
      "metadata": {
        "id": "view-in-github",
        "colab_type": "text"
      },
      "source": [
        "<a href=\"https://colab.research.google.com/github/SonsonTheQuest/MLOps_specialization/blob/main/Practice_Markdown_from_colab.ipynb\" target=\"_parent\"><img src=\"https://colab.research.google.com/assets/colab-badge.svg\" alt=\"Open In Colab\"/></a>"
      ]
    },
    {
      "cell_type": "markdown",
      "metadata": {
        "id": "IjIw4o2sPruo"
      },
      "source": [
        "## Practice Markdown"
      ]
    },
    {
      "cell_type": "markdown",
      "metadata": {
        "id": "mNuc3FZ3Pruq"
      },
      "source": [
        "This notebook lets you experiment with producing repeatable technical documentation.  Use this notebook to do the following actions:\n",
        "\n",
        "* Create a code cell and print a Python Hello World statement:  `print(\"hello world\")`\n",
        "* Create a Markdown Cell and add a Title using `#` and then a statement using plain text.  You can looks at the source code for this cell to get an idea of how to use Markdown.\n",
        "* Take some ideas from the [Master Markdown Github Guide](https://guides.github.com/features/mastering-markdown/) and implement them here.\n",
        "* Download this notebook as a `.ipynb` file and check into a Github Project.  You can [see an example here](https://github.com/noahgift/duke-coursera-ccf-lab1/blob/main/Practice-Markdown.ipynb).\n",
        "* Open your notebook in Google Colab and save it into the same Github Project.  You can [see an example here](https://github.com/noahgift/duke-coursera-ccf-lab1/blob/main/Practice_Markdown_with_colab.ipynb).\n"
      ]
    },
    {
      "cell_type": "code",
      "execution_count": null,
      "metadata": {
        "id": "FM-itC6mPruq"
      },
      "outputs": [],
      "source": [
        "def hello_world():\n",
        "    return print(\"Hello world !\")"
      ]
    },
    {
      "cell_type": "markdown",
      "metadata": {
        "id": "wa2jE4cPPrur"
      },
      "source": [
        "# This is a Markdown part of the notebook"
      ]
    },
    {
      "cell_type": "markdown",
      "metadata": {
        "id": "zrU5E7UtPrur"
      },
      "source": [
        "This part is created to experiment :\n",
        "* Mardowns attributes\n",
        "* Notebook layout possibilities with markdown"
      ]
    },
    {
      "cell_type": "markdown",
      "metadata": {
        "id": "oyWQ7hZVPrur"
      },
      "source": [
        "# Heading levels\n",
        "## A second-level heading\n",
        "### A third-level heading"
      ]
    },
    {
      "cell_type": "markdown",
      "metadata": {
        "id": "42tu8oczPrus"
      },
      "source": [
        "## Styling Text\n",
        "\n",
        "**This is bold text** and __this is bold too__\n",
        "\n",
        "_This text is italicized_ and _this is also italicized_\n",
        "\n",
        "~~This is mistaken text~~\n",
        "\n",
        "**This text is _extremely_ important** and ***this all part is extremely important***\n",
        "\n",
        "This is a <sub>subscript</sub> text and This is a <sup>superscript</sup> text"
      ]
    },
    {
      "cell_type": "markdown",
      "metadata": {
        "id": "BC2w8nq6Prus"
      },
      "source": [
        "### Quoting text\n",
        "\n",
        "When I do need to quote something I can do it like this\n",
        "\n",
        "> Text that is a quote test _or like this_\n",
        "\n",
        "This is also possible to `quote text` inside a sentence\n",
        "\n",
        "Or a full paragraph of text :\n",
        "```\n",
        "This could be useful to quot code for example\n",
        "and insert it in a specific part of text\n",
        "```\n",
        "but for more example and usecase refering to [this page](https://docs.github.com/en/get-started/writing-on-github/working-with-advanced-formatting/creating-and-highlighting-code-blocks) is a great trick to keep in mind"
      ]
    },
    {
      "cell_type": "markdown",
      "metadata": {
        "id": "9HxUMXBqPrus"
      },
      "source": [
        "### Color model insertion\n",
        "\n",
        "The background color is `#ffffff` for light mode and `#000000` for dark mode.\n",
        "And the different color reference could be :\n",
        "\n",
        "* HEX : `#0969DA`\n",
        "* RGB : `rgb(9, 105, 218)`\n",
        "* HSL : `hsl(212, 92%, 45%)`"
      ]
    },
    {
      "cell_type": "markdown",
      "metadata": {
        "id": "0STLinKJPrus"
      },
      "source": [
        "### Lists\n",
        "\n",
        "Here is the different types of list :\n",
        "- George Washington\n",
        "* John Adams\n",
        "+ Thomas Jefferson\n",
        "\n",
        "1. James Madison\n",
        "2. James Monroe\n",
        "3. John Quincy Adams\n",
        "\n",
        "1. First list item\n",
        "   - First nested list item\n",
        "     - Second nested list item\n",
        "100. First list item\n",
        "       - First nested list item\n",
        "         - Second nested list item\n",
        "\n",
        "- [x] #739\n",
        "- [ ] https://github.com/octo-org/octo-repo/issues/740\n",
        "- [ ] Add delight to the experience when all tasks are complete :tada:\n",
        "- [ ] \\(Optional) Open a followup issue"
      ]
    },
    {
      "cell_type": "code",
      "execution_count": null,
      "metadata": {
        "id": "C_NpipI6Prus"
      },
      "outputs": [],
      "source": []
    }
  ],
  "metadata": {
    "kernelspec": {
      "display_name": "Python 3",
      "language": "python",
      "name": "python3"
    },
    "language_info": {
      "codemirror_mode": {
        "name": "ipython",
        "version": 3
      },
      "file_extension": ".py",
      "mimetype": "text/x-python",
      "name": "python",
      "nbconvert_exporter": "python",
      "pygments_lexer": "ipython3",
      "version": "3.7.6"
    },
    "colab": {
      "provenance": [],
      "include_colab_link": true
    }
  },
  "nbformat": 4,
  "nbformat_minor": 0
}